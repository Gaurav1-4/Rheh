{
  "nbformat": 4,
  "nbformat_minor": 0,
  "metadata": {
    "colab": {
      "provenance": []
    },
    "kernelspec": {
      "name": "python3",
      "display_name": "Python 3"
    },
    "language_info": {
      "name": "python"
    }
  },
  "cells": [
    {
      "cell_type": "markdown",
      "source": [
        "**1. What is Python, and why is it popular?**\n",
        "       \n",
        "- Python is a programming launguage which is used to give instructions to the machine\n",
        "- It contains some set of letters and symobls which can be understand by the machine to perform the given task\n",
        "- The reason why python is so much popular are:-\n",
        "1. Its very easy to use for beginners\n",
        "2. it has a very huge libraries(where we store the codes to use them in future to save time.)\n",
        "3. A huge active community(almost everyone who is into coding learns the python as there very first coding language and almost every one knows python which helps us like we can search for the solution for the problem on the internet, it will be easily available)\n",
        "4. Its majorly used in every feild of work wheather it's the data science, data analytics,\n",
        " frontend, backend etc.\n",
        "\n",
        "\n"
      ],
      "metadata": {
        "id": "cE173s55FtjT"
      }
    },
    {
      "cell_type": "markdown",
      "source": [
        "**2. What is an interpreter in Python?**\n",
        "- In one word we can say an interpreter is a translator who translates the statement written by us into language/code that the machines understands.\n",
        "- The major differnce between the compiler and the interperter is that the interpreter translates the code line by line while the compiler translates all the codes at single run time."
      ],
      "metadata": {
        "id": "9qFLg7xrHEI0"
      }
    },
    {
      "cell_type": "markdown",
      "source": [
        "**3. What are pre-defined keywords in Python?**\n",
        "- These are the perdefined terms that are set to perform the specific task\n",
        "- We can't assign the keywords as variables as it will cause syntax error.\n",
        "- To access all the keywords in python there is a code:-"
      ],
      "metadata": {
        "id": "J_IRwvrBWuvG"
      }
    },
    {
      "cell_type": "code",
      "source": [
        "help(\"keywords\")"
      ],
      "metadata": {
        "colab": {
          "base_uri": "https://localhost:8080/"
        },
        "id": "gha_tzzSXFrg",
        "outputId": "62342d19-a0d7-4a12-dd9b-44bec6605119"
      },
      "execution_count": 1,
      "outputs": [
        {
          "output_type": "stream",
          "name": "stdout",
          "text": [
            "\n",
            "Here is a list of the Python keywords.  Enter any keyword to get more help.\n",
            "\n",
            "False               class               from                or\n",
            "None                continue            global              pass\n",
            "True                def                 if                  raise\n",
            "and                 del                 import              return\n",
            "as                  elif                in                  try\n",
            "assert              else                is                  while\n",
            "async               except              lambda              with\n",
            "await               finally             nonlocal            yield\n",
            "break               for                 not                 \n",
            "\n"
          ]
        }
      ]
    },
    {
      "cell_type": "markdown",
      "source": [
        "- for example like the print keyword\n",
        "it is used to print any text that we want for example:-"
      ],
      "metadata": {
        "id": "gxlEIJbIXpQA"
      }
    },
    {
      "cell_type": "code",
      "source": [
        "print(\"Hello PW SKILLS team!\")"
      ],
      "metadata": {
        "colab": {
          "base_uri": "https://localhost:8080/"
        },
        "id": "LGfDBLoXX476",
        "outputId": "90f7278e-88a1-4995-e2c6-905b78991272"
      },
      "execution_count": 2,
      "outputs": [
        {
          "output_type": "stream",
          "name": "stdout",
          "text": [
            "Hello PW SKILLS team!\n"
          ]
        }
      ]
    },
    {
      "cell_type": "markdown",
      "source": [
        "**4. Can keywords be used as variable names?**"
      ],
      "metadata": {
        "id": "FKmktV1YbZxU"
      }
    },
    {
      "cell_type": "markdown",
      "source": [
        "- No we can't use keywords aa variables let me demonstrate it with an example\n",
        "- you should never use a keyword as an varible to assign, and by mistakenly if you did then also n problem there is a solution to it let me illustrate:-"
      ],
      "metadata": {
        "id": "bsVDfCWYYDTv"
      }
    },
    {
      "cell_type": "code",
      "source": [
        "print = \"Hello\"\n",
        "print"
      ],
      "metadata": {
        "colab": {
          "base_uri": "https://localhost:8080/",
          "height": 35
        },
        "id": "jS_BRdQoYkZq",
        "outputId": "3744d283-e161-4bd0-fec5-c8505f0474dd"
      },
      "execution_count": 8,
      "outputs": [
        {
          "output_type": "execute_result",
          "data": {
            "text/plain": [
              "'Hello'"
            ],
            "application/vnd.google.colaboratory.intrinsic+json": {
              "type": "string"
            }
          },
          "metadata": {},
          "execution_count": 8
        }
      ]
    },
    {
      "cell_type": "markdown",
      "source": [
        "here the print keyword is assigned to \"hello\",\n",
        "now if we try to give print command it will show an error, let me show you"
      ],
      "metadata": {
        "id": "xFQW92JLZSFn"
      }
    },
    {
      "cell_type": "code",
      "source": [
        "print(\"PW SKILLS\")\n"
      ],
      "metadata": {
        "colab": {
          "base_uri": "https://localhost:8080/",
          "height": 144
        },
        "id": "OvP7hxDDZO5C",
        "outputId": "18b6c837-2f54-456d-a559-9a010d1161ce"
      },
      "execution_count": 13,
      "outputs": [
        {
          "output_type": "error",
          "ename": "TypeError",
          "evalue": "'str' object is not callable",
          "traceback": [
            "\u001b[0;31m---------------------------------------------------------------------------\u001b[0m",
            "\u001b[0;31mTypeError\u001b[0m                                 Traceback (most recent call last)",
            "\u001b[0;32m<ipython-input-13-dd9de57656c3>\u001b[0m in \u001b[0;36m<cell line: 0>\u001b[0;34m()\u001b[0m\n\u001b[0;32m----> 1\u001b[0;31m \u001b[0mprint\u001b[0m\u001b[0;34m(\u001b[0m\u001b[0;34m\"PW SKILLS\"\u001b[0m\u001b[0;34m)\u001b[0m\u001b[0;34m\u001b[0m\u001b[0;34m\u001b[0m\u001b[0m\n\u001b[0m",
            "\u001b[0;31mTypeError\u001b[0m: 'str' object is not callable"
          ]
        }
      ]
    },
    {
      "cell_type": "code",
      "source": [
        "# No worries we can correct it by:-\n",
        "del print\n",
        "print(\"PW SKILLS\")"
      ],
      "metadata": {
        "colab": {
          "base_uri": "https://localhost:8080/"
        },
        "id": "H7XwhV3mZ3wZ",
        "outputId": "81e9c115-37bf-4a56-c3ce-636c9a3d4fcd"
      },
      "execution_count": 14,
      "outputs": [
        {
          "output_type": "stream",
          "name": "stdout",
          "text": [
            "PW SKILLS\n"
          ]
        }
      ]
    },
    {
      "cell_type": "markdown",
      "source": [
        "**5. What is mutability in Python?**\n",
        "- Those whose value can be changed after cerating\n",
        "- we can edit them such as adding, subtracting to it or changing the value of it\n",
        "- The order of the charaters/symbols remains the same\n",
        "- whereas strings are inmutable(whose value can't be changed after creating)\n",
        "- For example lists:-"
      ],
      "metadata": {
        "id": "n2YPVfoPbzJp"
      }
    },
    {
      "cell_type": "code",
      "source": [
        "pw_skills = [1,2,3,4,5,5,6]\n",
        "type(pw_skills)"
      ],
      "metadata": {
        "colab": {
          "base_uri": "https://localhost:8080/"
        },
        "id": "N9mlUbjrz2Se",
        "outputId": "96cb6289-884f-4a98-c5b6-0245603979c2"
      },
      "execution_count": 21,
      "outputs": [
        {
          "output_type": "execute_result",
          "data": {
            "text/plain": [
              "list"
            ]
          },
          "metadata": {},
          "execution_count": 21
        }
      ]
    },
    {
      "cell_type": "code",
      "source": [
        "pw_skills[0] = 9\n",
        "pw_skills"
      ],
      "metadata": {
        "colab": {
          "base_uri": "https://localhost:8080/"
        },
        "id": "SHfpPW9uz8tU",
        "outputId": "384e4c29-1b5f-41ed-e819-c6f1e9d00672"
      },
      "execution_count": 22,
      "outputs": [
        {
          "output_type": "execute_result",
          "data": {
            "text/plain": [
              "[9, 2, 3, 4, 5, 5, 6]"
            ]
          },
          "metadata": {},
          "execution_count": 22
        }
      ]
    },
    {
      "cell_type": "markdown",
      "source": [],
      "metadata": {
        "id": "grtqXyctnN7z"
      }
    }
  ]
}